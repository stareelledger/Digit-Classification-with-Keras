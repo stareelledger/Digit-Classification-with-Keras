{
 "cells": [
  {
   "cell_type": "markdown",
   "metadata": {},
   "source": [
    "# Digit Classification\n",
    "## Importing important libraries"
   ]
  },
  {
   "cell_type": "code",
   "execution_count": 4,
   "metadata": {},
   "outputs": [],
   "source": [
    "import tensorflow as tf\n",
    "from tensorflow import keras\n",
    "import matplotlib.pyplot as plt\n",
    "import numpy as np"
   ]
  },
  {
   "cell_type": "markdown",
   "metadata": {},
   "source": [
    "## Loading datasets\n",
    "#### these datasets are are loaded from keras module of dataset"
   ]
  },
  {
   "cell_type": "code",
   "execution_count": 5,
   "metadata": {},
   "outputs": [],
   "source": [
    "(xtrain,ytrain),(xtest,ytest)=l=keras.datasets.mnist.load_data()"
   ]
  },
  {
   "cell_type": "code",
   "execution_count": 6,
   "metadata": {},
   "outputs": [
    {
     "data": {
      "text/plain": [
       "(28, 28)"
      ]
     },
     "execution_count": 6,
     "metadata": {},
     "output_type": "execute_result"
    }
   ],
   "source": [
    "# shape of a single dataset\n",
    "xtrain[0].shape"
   ]
  },
  {
   "cell_type": "markdown",
   "metadata": {},
   "source": [
    "### Normalizing the dataset"
   ]
  },
  {
   "cell_type": "code",
   "execution_count": 7,
   "metadata": {},
   "outputs": [],
   "source": [
    "X1=xtrain/255\n",
    "X2=xtest/255"
   ]
  },
  {
   "cell_type": "code",
   "execution_count": 8,
   "metadata": {},
   "outputs": [],
   "source": [
    "# image of a single dataset\n",
    "X1=X1.reshape(-1,28,28,1)\n",
    "X2=X2.reshape(-1,28,28,1)"
   ]
  },
  {
   "cell_type": "code",
   "execution_count": 14,
   "metadata": {},
   "outputs": [
    {
     "data": {
      "text/plain": [
       "(60000, 28, 28, 1)"
      ]
     },
     "execution_count": 14,
     "metadata": {},
     "output_type": "execute_result"
    }
   ],
   "source": [
    "X1.shape"
   ]
  },
  {
   "cell_type": "markdown",
   "metadata": {},
   "source": [
    "## Modelling the Neural Network with keras\n",
    "#### In this we first use 3 layered neural network-\n",
    "###### 1)layer 1- this function (\"keras.layers.Fallten()\") changes the give 2D dataset in 1D dataset or we cay say flattens the input.\n",
    "###### 2)layer 2- in this layer we have 25 units of neuron on which data trains\n",
    "###### layer 3- in this layer we use 10 neurons to have sparse categorical output(i.e output between(0-9) in the the give 10   \n",
    "######   neurons where the neuron having the largest is considered as answer)\n"
   ]
  },
  {
   "cell_type": "code",
   "execution_count": 26,
   "metadata": {},
   "outputs": [
    {
     "name": "stdout",
     "output_type": "stream",
     "text": [
      "Model: \"sequential_6\"\n",
      "_________________________________________________________________\n",
      "Layer (type)                 Output Shape              Param #   \n",
      "=================================================================\n",
      "1 (Conv2D)                   (None, 23, 23, 80)        2960      \n",
      "_________________________________________________________________\n",
      "average_pooling2d_6 (Average (None, 11, 11, 80)        0         \n",
      "_________________________________________________________________\n",
      "2 (Conv2D)                   (None, 8, 8, 90)          115290    \n",
      "_________________________________________________________________\n",
      "average_pooling2d_7 (Average (None, 4, 4, 90)          0         \n",
      "_________________________________________________________________\n",
      "3 (Conv2D)                   (None, 2, 2, 100)         81100     \n",
      "_________________________________________________________________\n",
      "average_pooling2d_8 (Average (None, 1, 1, 100)         0         \n",
      "_________________________________________________________________\n",
      "flatten_6 (Flatten)          (None, 100)               0         \n",
      "_________________________________________________________________\n",
      "dropout_3 (Dropout)          (None, 100)               0         \n",
      "_________________________________________________________________\n",
      "dense_14 (Dense)             (None, 512)               51712     \n",
      "_________________________________________________________________\n",
      "dropout_4 (Dropout)          (None, 512)               0         \n",
      "_________________________________________________________________\n",
      "dense_15 (Dense)             (None, 256)               131328    \n",
      "_________________________________________________________________\n",
      "dense_16 (Dense)             (None, 10)                2570      \n",
      "=================================================================\n",
      "Total params: 384,960\n",
      "Trainable params: 384,960\n",
      "Non-trainable params: 0\n",
      "_________________________________________________________________\n"
     ]
    }
   ],
   "source": [
    "model=keras.Sequential([\n",
    "    \n",
    "    keras.layers.Conv2D(80,(6,6),activation='relu',input_shape=(28,28,1),name=\"1\"),\n",
    "    keras.layers.AveragePooling2D(2,2),\n",
    "    keras.layers.Conv2D(90,(4,4),activation='relu',name=\"2\"),\n",
    "    keras.layers.AveragePooling2D(2,2),\n",
    "    keras.layers.Conv2D(100,(3,3),activation='relu',name=\"3\"),\n",
    "    keras.layers.AveragePooling2D(2,2),\n",
    "    keras.layers.Flatten(),\n",
    "    keras.layers.Dropout(0.2),\n",
    "    keras.layers.Dense(512,activation='sigmoid'),\n",
    "    keras.layers.Dropout(0.2),\n",
    "    keras.layers.Dense(256,activation='sigmoid'),\n",
    "    keras.layers.Dense(10,activation='sigmoid')\n",
    "    \n",
    "                              ])\n",
    "model.summary()"
   ]
  },
  {
   "cell_type": "code",
   "execution_count": 27,
   "metadata": {},
   "outputs": [],
   "source": [
    "# here we use adam optimizer with default learning rate as it works expectedly\n",
    "#and use 'sparse_categorical_croosentropy' as explained\n",
    "model.compile(optimizer='adam',loss='sparse_categorical_crossentropy',metrics=['accuracy'])"
   ]
  },
  {
   "cell_type": "code",
   "execution_count": 29,
   "metadata": {},
   "outputs": [
    {
     "name": "stdout",
     "output_type": "stream",
     "text": [
      "Epoch 1/10\n",
      "60000/60000 [==============================] - 104s 2ms/sample - loss: 0.0453 - acc: 0.9868\n",
      "Epoch 2/10\n",
      "60000/60000 [==============================] - 104s 2ms/sample - loss: 0.0378 - acc: 0.9884\n",
      "Epoch 3/10\n",
      "60000/60000 [==============================] - 104s 2ms/sample - loss: 0.0325 - acc: 0.9904\n",
      "Epoch 4/10\n",
      "60000/60000 [==============================] - 99s 2ms/sample - loss: 0.0294 - acc: 0.9910\n",
      "Epoch 5/10\n",
      "60000/60000 [==============================] - 104s 2ms/sample - loss: 0.0259 - acc: 0.9922\n",
      "Epoch 6/10\n",
      "60000/60000 [==============================] - 104s 2ms/sample - loss: 0.0237 - acc: 0.9927\n",
      "Epoch 7/10\n",
      "60000/60000 [==============================] - 105s 2ms/sample - loss: 0.0205 - acc: 0.9937\n",
      "Epoch 8/10\n",
      "60000/60000 [==============================] - 105s 2ms/sample - loss: 0.0181 - acc: 0.9947\n",
      "Epoch 9/10\n",
      "60000/60000 [==============================] - 105s 2ms/sample - loss: 0.0169 - acc: 0.9951\n",
      "Epoch 10/10\n",
      "60000/60000 [==============================] - 105s 2ms/sample - loss: 0.0149 - acc: 0.9952\n"
     ]
    },
    {
     "data": {
      "text/plain": [
       "<tensorflow.python.keras.callbacks.History at 0x23043d94bc8>"
      ]
     },
     "execution_count": 29,
     "metadata": {},
     "output_type": "execute_result"
    }
   ],
   "source": [
    "#training the model with 20 epochs \n",
    "model.fit(X1,ytrain,epochs=10)"
   ]
  },
  {
   "cell_type": "code",
   "execution_count": 30,
   "metadata": {},
   "outputs": [
    {
     "data": {
      "text/plain": [
       "array([[0.0000000e+00, 1.1891127e-05, 1.1652708e-05, ..., 9.9874711e-01,\n",
       "        5.9604645e-08, 5.4240227e-06],\n",
       "       [3.8236380e-05, 2.8908253e-06, 9.9398416e-01, ..., 1.2099743e-05,\n",
       "        8.1062317e-06, 2.6822090e-07],\n",
       "       [0.0000000e+00, 9.9914289e-01, 1.5497208e-06, ..., 1.0654330e-04,\n",
       "        1.2040138e-05, 5.0663948e-07],\n",
       "       ...,\n",
       "       [2.9802322e-08, 2.3365021e-05, 8.3446503e-07, ..., 4.5895576e-06,\n",
       "        1.6093254e-06, 2.1815300e-05],\n",
       "       [6.5565109e-07, 3.5762787e-07, 2.9802322e-08, ..., 8.9406967e-08,\n",
       "        9.5784664e-05, 5.7518482e-06],\n",
       "       [1.0579824e-05, 4.3511391e-06, 5.0663948e-07, ..., 0.0000000e+00,\n",
       "        4.3809414e-06, 1.7881393e-07]], dtype=float32)"
      ]
     },
     "execution_count": 30,
     "metadata": {},
     "output_type": "execute_result"
    }
   ],
   "source": [
    "#predicting the model\n",
    "y_p=model.predict(X2)\n",
    "y_p"
   ]
  },
  {
   "cell_type": "markdown",
   "metadata": {},
   "source": [
    "### Converting the model output into an understandable manner"
   ]
  },
  {
   "cell_type": "code",
   "execution_count": 31,
   "metadata": {},
   "outputs": [],
   "source": [
    "#looping to take max value from each single output\n",
    "yp=[np.argmax(y_p[i]) for i in range(0,len(y_p))]\n",
    "yp=np.array(yp,dtype='int')\n"
   ]
  },
  {
   "cell_type": "code",
   "execution_count": 32,
   "metadata": {},
   "outputs": [
    {
     "name": "stdout",
     "output_type": "stream",
     "text": [
      "[7 2 1 ... 4 5 6]\n",
      "[7 2 1 ... 4 5 6]\n"
     ]
    }
   ],
   "source": [
    "print(ytest)\n",
    "print(yp)"
   ]
  },
  {
   "cell_type": "markdown",
   "metadata": {},
   "source": [
    "### Accuracy and loss on test set"
   ]
  },
  {
   "cell_type": "code",
   "execution_count": 33,
   "metadata": {},
   "outputs": [
    {
     "name": "stdout",
     "output_type": "stream",
     "text": [
      "loss on test set: 0.016\n",
      "Accuracy on test set 0.984\n"
     ]
    }
   ],
   "source": [
    "k=0\n",
    "for i in range(0,1000):\n",
    "    if(ytest[i]!=yp[i]):\n",
    "        k+=1\n",
    "print(\"loss on test set:\",k/1000)\n",
    "print(\"Accuracy on test set\",1-(k/1000))"
   ]
  },
  {
   "cell_type": "markdown",
   "metadata": {},
   "source": [
    "### Taking any random input"
   ]
  },
  {
   "cell_type": "code",
   "execution_count": 35,
   "metadata": {},
   "outputs": [
    {
     "name": "stdout",
     "output_type": "stream",
     "text": [
      "Predicting value of 666th(randomly taken) dataset : 7\n",
      "\n",
      "Image of 666th data set:\n"
     ]
    },
    {
     "data": {
      "text/plain": [
       "<matplotlib.image.AxesImage at 0x23045f9d648>"
      ]
     },
     "execution_count": 35,
     "metadata": {},
     "output_type": "execute_result"
    },
    {
     "data": {
      "image/png": "[encoded data removed]",
      "text/plain": [
       "<Figure size 432x288 with 1 Axes>"
      ]
     },
     "metadata": {
      "needs_background": "light"
     },
     "output_type": "display_data"
    }
   ],
   "source": [
    "print(\"Predicting value of 666th(randomly taken) dataset :\",ytest[666])\n",
    "print(\"\\nImage of 666th data set:\")\n",
    "\n",
    "plt.imshow(X2[666].reshape(28,28))"
   ]
  }
 ],
 "metadata": {
  "kernelspec": {
   "display_name": "Python 3",
   "language": "python",
   "name": "python3"
  },
  "language_info": {
   "codemirror_mode": {
    "name": "ipython",
    "version": 3
   },
   "file_extension": ".py",
   "mimetype": "text/x-python",
   "name": "python",
   "nbconvert_exporter": "python",
   "pygments_lexer": "ipython3",
   "version": "3.7.6"
  }
 },
 "nbformat": 4,
 "nbformat_minor": 4
}
