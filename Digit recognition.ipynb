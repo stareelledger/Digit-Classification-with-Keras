{
 "cells": [
  {
   "cell_type": "markdown",
   "metadata": {},
   "source": [
    "# Digit Classification\n",
    "## Importing important libraries"
   ]
  },
  {
   "cell_type": "code",
   "execution_count": 2,
   "metadata": {},
   "outputs": [],
   "source": [
    "import tensorflow as tf\n",
    "from tensorflow import keras\n",
    "import matplotlib.pyplot as plt\n",
    "import numpy as np"
   ]
  },
  {
   "cell_type": "markdown",
   "metadata": {},
   "source": [
    "## Loading datasets\n",
    "#### these datasets are are loaded from keras module of dataset"
   ]
  },
  {
   "cell_type": "code",
   "execution_count": 3,
   "metadata": {},
   "outputs": [],
   "source": [
    "(xtrain,ytrain),(xtest,ytest)=l=keras.datasets.mnist.load_data()"
   ]
  },
  {
   "cell_type": "code",
   "execution_count": 4,
   "metadata": {},
   "outputs": [
    {
     "data": {
      "text/plain": [
       "(28, 28)"
      ]
     },
     "execution_count": 4,
     "metadata": {},
     "output_type": "execute_result"
    }
   ],
   "source": [
    "# shape of a single dataset\n",
    "xtrain[0].shape"
   ]
  },
  {
   "cell_type": "markdown",
   "metadata": {},
   "source": [
    "### Normalizing the dataset"
   ]
  },
  {
   "cell_type": "code",
   "execution_count": 5,
   "metadata": {},
   "outputs": [],
   "source": [
    "X1=xtrain/255\n",
    "X2=xtest/255"
   ]
  },
  {
   "cell_type": "code",
   "execution_count": 6,
   "metadata": {},
   "outputs": [
    {
     "data": {
      "text/plain": [
       "<matplotlib.image.AxesImage at 0x207f354f6c8>"
      ]
     },
     "execution_count": 6,
     "metadata": {},
     "output_type": "execute_result"
    },
    {
     "data": {
      "image/png": "[encoded data removed]",
      "text/plain": [
       "<Figure size 432x288 with 1 Axes>"
      ]
     },
     "metadata": {
      "needs_background": "light"
     },
     "output_type": "display_data"
    }
   ],
   "source": [
    "# image of a single dataset\n",
    "plt.imshow(X1[1])"
   ]
  },
  {
   "cell_type": "markdown",
   "metadata": {},
   "source": [
    "## Modelling the Neural Network with keras\n",
    "#### In this we first use 3 layered neural network-\n",
    "###### 1)layer 1- this function (\"keras.layers.Fallten()\") changes the give 2D dataset in 1D dataset or we cay say flattens the input.\n",
    "###### 2)layer 2- in this layer we have 25 units of neuron on which data trains\n",
    "###### layer 3- in this layer we use 10 neurons to have sparse categorical output(i.e output between(0-9) in the the give 10   \n",
    "######   neurons where the neuron having the largest is considered as answer)\n"
   ]
  },
  {
   "cell_type": "code",
   "execution_count": 7,
   "metadata": {},
   "outputs": [
    {
     "name": "stdout",
     "output_type": "stream",
     "text": [
      "WARNING:tensorflow:From C:\\Users\\Arun\\anaconda3\\lib\\site-packages\\tensorflow\\python\\ops\\init_ops.py:1251: calling VarianceScaling.__init__ (from tensorflow.python.ops.init_ops) with dtype is deprecated and will be removed in a future version.\n",
      "Instructions for updating:\n",
      "Call initializer instance with the dtype argument instead of passing it to the constructor\n"
     ]
    }
   ],
   "source": [
    "model=keras.Sequential({\n",
    "    keras.layers.Flatten(),\n",
    "    keras.layers.Dense(25,activation='sigmoid'),\n",
    "    keras.layers.Dense(10,activation='sigmoid')\n",
    "    \n",
    "})"
   ]
  },
  {
   "cell_type": "code",
   "execution_count": 8,
   "metadata": {},
   "outputs": [],
   "source": [
    "# here we use adam optimizer with default learning rate as it works expectedly\n",
    "#and use 'sparse_categorical_croosentropy' as explained\n",
    "model.compile(optimizer='adam',loss='sparse_categorical_crossentropy',metrics=['accuracy'])"
   ]
  },
  {
   "cell_type": "code",
   "execution_count": 9,
   "metadata": {},
   "outputs": [
    {
     "name": "stdout",
     "output_type": "stream",
     "text": [
      "WARNING:tensorflow:From C:\\Users\\Arun\\anaconda3\\lib\\site-packages\\tensorflow\\python\\ops\\math_grad.py:1250: add_dispatch_support.<locals>.wrapper (from tensorflow.python.ops.array_ops) is deprecated and will be removed in a future version.\n",
      "Instructions for updating:\n",
      "Use tf.where in 2.0, which has the same broadcast rule as np.where\n",
      "Epoch 1/20\n",
      "60000/60000 [==============================] - 10s 165us/sample - loss: 0.7393 - acc: 0.8500\n",
      "Epoch 2/20\n",
      "60000/60000 [==============================] - 8s 133us/sample - loss: 0.2839 - acc: 0.9244\n",
      "Epoch 3/20\n",
      "60000/60000 [==============================] - 9s 144us/sample - loss: 0.2277 - acc: 0.9364\n",
      "Epoch 4/20\n",
      "60000/60000 [==============================] - 8s 126us/sample - loss: 0.1981 - acc: 0.9447\n",
      "Epoch 5/20\n",
      "60000/60000 [==============================] - 7s 117us/sample - loss: 0.1778 - acc: 0.9495\n",
      "Epoch 6/20\n",
      "60000/60000 [==============================] - 8s 133us/sample - loss: 0.1629 - acc: 0.9538\n",
      "Epoch 7/20\n",
      "60000/60000 [==============================] - 7s 116us/sample - loss: 0.1508 - acc: 0.9574\n",
      "Epoch 8/20\n",
      "60000/60000 [==============================] - 7s 121us/sample - loss: 0.1414 - acc: 0.9593\n",
      "Epoch 9/20\n",
      "60000/60000 [==============================] - 8s 133us/sample - loss: 0.1330 - acc: 0.9621\n",
      "Epoch 10/20\n",
      "60000/60000 [==============================] - 7s 123us/sample - loss: 0.1264 - acc: 0.9632\n",
      "Epoch 11/20\n",
      "60000/60000 [==============================] - 8s 131us/sample - loss: 0.1203 - acc: 0.9647\n",
      "Epoch 12/20\n",
      "60000/60000 [==============================] - 12s 192us/sample - loss: 0.1151 - acc: 0.9669\n",
      "Epoch 13/20\n",
      "60000/60000 [==============================] - 11s 176us/sample - loss: 0.1104 - acc: 0.9681\n",
      "Epoch 14/20\n",
      "60000/60000 [==============================] - 10s 163us/sample - loss: 0.1060 - acc: 0.9695\n",
      "Epoch 15/20\n",
      "60000/60000 [==============================] - 8s 140us/sample - loss: 0.1021 - acc: 0.9703\n",
      "Epoch 16/20\n",
      "60000/60000 [==============================] - 8s 132us/sample - loss: 0.0984 - acc: 0.9711\n",
      "Epoch 17/20\n",
      "60000/60000 [==============================] - 8s 133us/sample - loss: 0.0950 - acc: 0.9720\n",
      "Epoch 18/20\n",
      "60000/60000 [==============================] - 7s 118us/sample - loss: 0.0919 - acc: 0.9736\n",
      "Epoch 19/20\n",
      "60000/60000 [==============================] - 5s 90us/sample - loss: 0.0895 - acc: 0.9740\n",
      "Epoch 20/20\n",
      "60000/60000 [==============================] - 5s 90us/sample - loss: 0.0865 - acc: 0.9752\n"
     ]
    },
    {
     "data": {
      "text/plain": [
       "<tensorflow.python.keras.callbacks.History at 0x207f377e6c8>"
      ]
     },
     "execution_count": 9,
     "metadata": {},
     "output_type": "execute_result"
    }
   ],
   "source": [
    "#training the model with 20 epochs \n",
    "model.fit(X1,ytrain,epochs=20)"
   ]
  },
  {
   "cell_type": "code",
   "execution_count": 10,
   "metadata": {},
   "outputs": [
    {
     "data": {
      "text/plain": [
       "array([[1.9371510e-06, 1.2218952e-06, 5.3644180e-06, ..., 3.4724414e-01,\n",
       "        3.2782555e-06, 6.5863132e-06],\n",
       "       [8.3148479e-06, 2.0229816e-04, 4.9860179e-02, ..., 0.0000000e+00,\n",
       "        9.5367432e-07, 0.0000000e+00],\n",
       "       [1.1920929e-07, 4.5792332e-01, 9.7590685e-04, ..., 3.0466914e-04,\n",
       "        2.1263957e-04, 1.1801720e-05],\n",
       "       ...,\n",
       "       [5.9604645e-08, 0.0000000e+00, 3.5762787e-07, ..., 2.5480986e-04,\n",
       "        3.6597252e-05, 1.1949539e-03],\n",
       "       [5.9604645e-08, 2.0861626e-07, 0.0000000e+00, ..., 0.0000000e+00,\n",
       "        3.1256676e-04, 8.9406967e-08],\n",
       "       [1.1622906e-06, 9.8347664e-07, 4.2259693e-05, ..., 5.9604645e-08,\n",
       "        1.1920929e-07, 0.0000000e+00]], dtype=float32)"
      ]
     },
     "execution_count": 10,
     "metadata": {},
     "output_type": "execute_result"
    }
   ],
   "source": [
    "#predicting the model\n",
    "y_p=model.predict(X2)\n",
    "y_p"
   ]
  },
  {
   "cell_type": "markdown",
   "metadata": {},
   "source": [
    "### Converting the model output into an understandable manner"
   ]
  },
  {
   "cell_type": "code",
   "execution_count": 11,
   "metadata": {},
   "outputs": [],
   "source": [
    "#looping to take max value from each single output\n",
    "yp=[np.argmax(y_p[i]) for i in range(0,len(y_p))]\n",
    "yp=np.array(yp,dtype='int')\n"
   ]
  },
  {
   "cell_type": "code",
   "execution_count": 12,
   "metadata": {},
   "outputs": [
    {
     "name": "stdout",
     "output_type": "stream",
     "text": [
      "[7 2 1 ... 4 5 6]\n",
      "[7 2 1 ... 4 5 6]\n"
     ]
    }
   ],
   "source": [
    "print(ytest)\n",
    "print(yp)"
   ]
  },
  {
   "cell_type": "markdown",
   "metadata": {},
   "source": [
    "### Accuracy and loss on test set"
   ]
  },
  {
   "cell_type": "code",
   "execution_count": 14,
   "metadata": {},
   "outputs": [
    {
     "name": "stdout",
     "output_type": "stream",
     "text": [
      "loss on test set: 0.038\n",
      "Accuracy on test set 0.962\n"
     ]
    }
   ],
   "source": [
    "k=0\n",
    "for i in range(0,1000):\n",
    "    if(ytest[i]!=yp[i]):\n",
    "        k+=1\n",
    "print(\"loss on test set:\",k/1000)\n",
    "print(\"Accuracy on test set\",1-(k/1000))"
   ]
  },
  {
   "cell_type": "markdown",
   "metadata": {},
   "source": [
    "### Taking any random input"
   ]
  },
  {
   "cell_type": "code",
   "execution_count": 19,
   "metadata": {},
   "outputs": [
    {
     "name": "stdout",
     "output_type": "stream",
     "text": [
      "Predicting value of 666th(randomly taken) dataset : 7\n",
      "\n",
      "Image of 666th data set:\n"
     ]
    },
    {
     "data": {
      "text/plain": [
       "<matplotlib.image.AxesImage at 0x207f4c79e88>"
      ]
     },
     "execution_count": 19,
     "metadata": {},
     "output_type": "execute_result"
    },
    {
     "data": {
      "image/png": "[encoded data removed]",
      "text/plain": [
       "<Figure size 432x288 with 1 Axes>"
      ]
     },
     "metadata": {
      "needs_background": "light"
     },
     "output_type": "display_data"
    }
   ],
   "source": [
    "print(\"Predicting value of 666th(randomly taken) dataset :\",ytest[666])\n",
    "print(\"\\nImage of 666th data set:\")\n",
    "plt.imshow(X2[666])"
   ]
  }
 ],
 "metadata": {
  "kernelspec": {
   "display_name": "Python 3",
   "language": "python",
   "name": "python3"
  },
  "language_info": {
   "codemirror_mode": {
    "name": "ipython",
    "version": 3
   },
   "file_extension": ".py",
   "mimetype": "text/x-python",
   "name": "python",
   "nbconvert_exporter": "python",
   "pygments_lexer": "ipython3",
   "version": "3.7.6"
  }
 },
 "nbformat": 4,
 "nbformat_minor": 4
}
